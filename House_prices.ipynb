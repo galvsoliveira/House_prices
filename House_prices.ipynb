{
 "cells": [
  {
   "cell_type": "code",
   "execution_count": 24,
   "metadata": {
    "collapsed": true
   },
   "outputs": [],
   "source": [
    "import matplotlib.pyplot as plt\n",
    "import pandas as pd\n",
    "import numpy as np\n",
    "import seaborn as sns\n",
    "import pickle\n",
    "from sklearn import metrics\n",
    "from sklearn.model_selection import train_test_split\n",
    "from sklearn.linear_model import LinearRegression"
   ]
  },
  {
   "cell_type": "code",
   "execution_count": 25,
   "outputs": [
    {
     "data": {
      "text/plain": "   Id Zona   Area  Qualidade  AnoConstrucao QualidadeAquecimento  Banheiros  \\\n0   1   RL   9600          6           1976                   Ex          2   \n1   2   RL  14115          5           1993                   Ex          1   \n2   3   RL  11200          5           1965                   Ex          1   \n3   4   RL  12968          5           1962                   TA          1   \n4   5   RL  10920          6           1960                   TA          1   \n\n   Quartos_t1  Quartos_t2  Comodos  Lareiras  Garagem   Preco  \n0           3           4        6         1        2  181500  \n1           1           2        5         0        2  143000  \n2           3           4        5         0        1  129500  \n3           2           3        4         0        1  144000  \n4           2           3        5         1        1  157000  ",
      "text/html": "<div>\n<style scoped>\n    .dataframe tbody tr th:only-of-type {\n        vertical-align: middle;\n    }\n\n    .dataframe tbody tr th {\n        vertical-align: top;\n    }\n\n    .dataframe thead th {\n        text-align: right;\n    }\n</style>\n<table border=\"1\" class=\"dataframe\">\n  <thead>\n    <tr style=\"text-align: right;\">\n      <th></th>\n      <th>Id</th>\n      <th>Zona</th>\n      <th>Area</th>\n      <th>Qualidade</th>\n      <th>AnoConstrucao</th>\n      <th>QualidadeAquecimento</th>\n      <th>Banheiros</th>\n      <th>Quartos_t1</th>\n      <th>Quartos_t2</th>\n      <th>Comodos</th>\n      <th>Lareiras</th>\n      <th>Garagem</th>\n      <th>Preco</th>\n    </tr>\n  </thead>\n  <tbody>\n    <tr>\n      <th>0</th>\n      <td>1</td>\n      <td>RL</td>\n      <td>9600</td>\n      <td>6</td>\n      <td>1976</td>\n      <td>Ex</td>\n      <td>2</td>\n      <td>3</td>\n      <td>4</td>\n      <td>6</td>\n      <td>1</td>\n      <td>2</td>\n      <td>181500</td>\n    </tr>\n    <tr>\n      <th>1</th>\n      <td>2</td>\n      <td>RL</td>\n      <td>14115</td>\n      <td>5</td>\n      <td>1993</td>\n      <td>Ex</td>\n      <td>1</td>\n      <td>1</td>\n      <td>2</td>\n      <td>5</td>\n      <td>0</td>\n      <td>2</td>\n      <td>143000</td>\n    </tr>\n    <tr>\n      <th>2</th>\n      <td>3</td>\n      <td>RL</td>\n      <td>11200</td>\n      <td>5</td>\n      <td>1965</td>\n      <td>Ex</td>\n      <td>1</td>\n      <td>3</td>\n      <td>4</td>\n      <td>5</td>\n      <td>0</td>\n      <td>1</td>\n      <td>129500</td>\n    </tr>\n    <tr>\n      <th>3</th>\n      <td>4</td>\n      <td>RL</td>\n      <td>12968</td>\n      <td>5</td>\n      <td>1962</td>\n      <td>TA</td>\n      <td>1</td>\n      <td>2</td>\n      <td>3</td>\n      <td>4</td>\n      <td>0</td>\n      <td>1</td>\n      <td>144000</td>\n    </tr>\n    <tr>\n      <th>4</th>\n      <td>5</td>\n      <td>RL</td>\n      <td>10920</td>\n      <td>6</td>\n      <td>1960</td>\n      <td>TA</td>\n      <td>1</td>\n      <td>2</td>\n      <td>3</td>\n      <td>5</td>\n      <td>1</td>\n      <td>1</td>\n      <td>157000</td>\n    </tr>\n  </tbody>\n</table>\n</div>"
     },
     "execution_count": 25,
     "metadata": {},
     "output_type": "execute_result"
    }
   ],
   "source": [
    "data = pd.read_csv('data.csv', sep = ';')\n",
    "data.head()"
   ],
   "metadata": {
    "collapsed": false,
    "pycharm": {
     "name": "#%%\n"
    }
   }
  },
  {
   "cell_type": "code",
   "execution_count": 26,
   "outputs": [
    {
     "name": "stdout",
     "output_type": "stream",
     "text": [
      "The number of observations for the data collection:629\n",
      "The number of variables for the data collection:13\n"
     ]
    }
   ],
   "source": [
    "(lines, columns) = data.shape\n",
    "print(f'The number of observations for the data collection:{lines}')\n",
    "print(f'The number of variables for the data collection:{columns}')"
   ],
   "metadata": {
    "collapsed": false,
    "pycharm": {
     "name": "#%%\n"
    }
   }
  },
  {
   "cell_type": "code",
   "execution_count": 27,
   "outputs": [
    {
     "data": {
      "text/plain": "Id                      0\nZona                    0\nArea                    0\nQualidade               0\nAnoConstrucao           0\nQualidadeAquecimento    0\nBanheiros               0\nQuartos_t1              0\nQuartos_t2              0\nComodos                 0\nLareiras                0\nGaragem                 0\nPreco                   0\ndtype: int64"
     },
     "execution_count": 27,
     "metadata": {},
     "output_type": "execute_result"
    }
   ],
   "source": [
    "data.isna().sum()"
   ],
   "metadata": {
    "collapsed": false,
    "pycharm": {
     "name": "#%%\n"
    }
   }
  },
  {
   "cell_type": "code",
   "execution_count": 28,
   "outputs": [
    {
     "name": "stdout",
     "output_type": "stream",
     "text": [
      "<class 'pandas.core.frame.DataFrame'>\n",
      "RangeIndex: 629 entries, 0 to 628\n",
      "Data columns (total 13 columns):\n",
      " #   Column                Non-Null Count  Dtype \n",
      "---  ------                --------------  ----- \n",
      " 0   Id                    629 non-null    int64 \n",
      " 1   Zona                  629 non-null    object\n",
      " 2   Area                  629 non-null    int64 \n",
      " 3   Qualidade             629 non-null    int64 \n",
      " 4   AnoConstrucao         629 non-null    int64 \n",
      " 5   QualidadeAquecimento  629 non-null    object\n",
      " 6   Banheiros             629 non-null    int64 \n",
      " 7   Quartos_t1            629 non-null    int64 \n",
      " 8   Quartos_t2            629 non-null    int64 \n",
      " 9   Comodos               629 non-null    int64 \n",
      " 10  Lareiras              629 non-null    int64 \n",
      " 11  Garagem               629 non-null    int64 \n",
      " 12  Preco                 629 non-null    int64 \n",
      "dtypes: int64(11), object(2)\n",
      "memory usage: 64.0+ KB\n"
     ]
    }
   ],
   "source": [
    "data.info()"
   ],
   "metadata": {
    "collapsed": false,
    "pycharm": {
     "name": "#%%\n"
    }
   }
  },
  {
   "cell_type": "code",
   "execution_count": 29,
   "outputs": [],
   "source": [
    "sns.set_palette('Blues_d')\n",
    "sns.set_style('darkgrid')"
   ],
   "metadata": {
    "collapsed": false,
    "pycharm": {
     "name": "#%%\n"
    }
   }
  },
  {
   "cell_type": "code",
   "execution_count": 30,
   "outputs": [
    {
     "data": {
      "text/plain": "Text(0.5, 1.0, 'House prices histogram')"
     },
     "execution_count": 30,
     "metadata": {},
     "output_type": "execute_result"
    },
    {
     "data": {
      "text/plain": "<Figure size 864x432 with 1 Axes>",
      "image/png": "[encoded data removed]"
     },
     "metadata": {},
     "output_type": "display_data"
    }
   ],
   "source": [
    "data2 = data.copy()\n",
    "\n",
    "data2.Preco = data2.Preco/1000\n",
    "\n",
    "histogram_price = sns.histplot(data = data2, x = 'Preco', kde = True)\n",
    "histogram_price.figure.set_size_inches(12,6)\n",
    "histogram_price.set_xlabel('House prices ($10^3$ \\$)', fontsize = 16)\n",
    "histogram_price.set_ylabel('Frequency', fontsize = 16)\n",
    "histogram_price.set_title('House prices histogram', fontsize = 20, loc = 'center')"
   ],
   "metadata": {
    "collapsed": false,
    "pycharm": {
     "name": "#%%\n"
    }
   }
  },
  {
   "cell_type": "code",
   "execution_count": 31,
   "outputs": [
    {
     "data": {
      "text/plain": "Text(0.5, 1.0, 'House prices boxplot')"
     },
     "execution_count": 31,
     "metadata": {},
     "output_type": "execute_result"
    },
    {
     "data": {
      "text/plain": "<Figure size 864x432 with 1 Axes>",
      "image/png": "[encoded data removed]"
     },
     "metadata": {},
     "output_type": "display_data"
    }
   ],
   "source": [
    "boxplot_price = sns.boxplot(data = data2, x = 'Preco', orient = 'h', width = 0.35)\n",
    "boxplot_price.figure.set_size_inches(12,6)\n",
    "boxplot_price.set_xlabel('House prices ($10^3$ \\$ )', fontsize = 16)\n",
    "boxplot_price.set_ylabel('', fontsize = 16)\n",
    "boxplot_price.set_title('House prices boxplot', fontsize = 20, loc = 'center')"
   ],
   "metadata": {
    "collapsed": false,
    "pycharm": {
     "name": "#%%\n"
    }
   }
  },
  {
   "cell_type": "code",
   "execution_count": 41,
   "outputs": [
    {
     "data": {
      "text/plain": "count       629.00\nmean     148234.54\nstd       28088.04\nmin       80000.00\n25%      129000.00\n50%      147000.00\n75%      173000.00\nmax      200000.00\nName: Price_statistics, dtype: float64"
     },
     "execution_count": 41,
     "metadata": {},
     "output_type": "execute_result"
    }
   ],
   "source": [
    "#(select data).(select column 'Preco').(describe column).(round values).(rename column label to 'Price statistics')\n",
    "data.Preco.describe().round(2).rename('Price_statistics')"
   ],
   "metadata": {
    "collapsed": false,
    "pycharm": {
     "name": "#%%\n"
    }
   }
  },
  {
   "cell_type": "code",
   "execution_count": 82,
   "outputs": [
    {
     "data": {
      "text/plain": "     Construction_year   Price\n0                 1976  181500\n1                 1993  143000\n2                 1965  129500\n3                 1962  144000\n4                 1960  157000\n..                 ...     ...\n624               1966  129000\n625               1970   92000\n626               2005  145000\n627               1999  175000\n628               1950  142125\n\n[629 rows x 2 columns]",
      "text/html": "<div>\n<style scoped>\n    .dataframe tbody tr th:only-of-type {\n        vertical-align: middle;\n    }\n\n    .dataframe tbody tr th {\n        vertical-align: top;\n    }\n\n    .dataframe thead th {\n        text-align: right;\n    }\n</style>\n<table border=\"1\" class=\"dataframe\">\n  <thead>\n    <tr style=\"text-align: right;\">\n      <th></th>\n      <th>Construction_year</th>\n      <th>Price</th>\n    </tr>\n  </thead>\n  <tbody>\n    <tr>\n      <th>0</th>\n      <td>1976</td>\n      <td>181500</td>\n    </tr>\n    <tr>\n      <th>1</th>\n      <td>1993</td>\n      <td>143000</td>\n    </tr>\n    <tr>\n      <th>2</th>\n      <td>1965</td>\n      <td>129500</td>\n    </tr>\n    <tr>\n      <th>3</th>\n      <td>1962</td>\n      <td>144000</td>\n    </tr>\n    <tr>\n      <th>4</th>\n      <td>1960</td>\n      <td>157000</td>\n    </tr>\n    <tr>\n      <th>...</th>\n      <td>...</td>\n      <td>...</td>\n    </tr>\n    <tr>\n      <th>624</th>\n      <td>1966</td>\n      <td>129000</td>\n    </tr>\n    <tr>\n      <th>625</th>\n      <td>1970</td>\n      <td>92000</td>\n    </tr>\n    <tr>\n      <th>626</th>\n      <td>2005</td>\n      <td>145000</td>\n    </tr>\n    <tr>\n      <th>627</th>\n      <td>1999</td>\n      <td>175000</td>\n    </tr>\n    <tr>\n      <th>628</th>\n      <td>1950</td>\n      <td>142125</td>\n    </tr>\n  </tbody>\n</table>\n<p>629 rows × 2 columns</p>\n</div>"
     },
     "execution_count": 82,
     "metadata": {},
     "output_type": "execute_result"
    }
   ],
   "source": [
    "year_price = {'Construction_year':list(data.AnoConstrucao),'Price':list(data.Preco)}\n",
    "df = pd.DataFrame(year_price)\n",
    "df"
   ],
   "metadata": {
    "collapsed": false,
    "pycharm": {
     "name": "#%%\n"
    }
   }
  },
  {
   "cell_type": "code",
   "execution_count": 82,
   "outputs": [],
   "source": [],
   "metadata": {
    "collapsed": false,
    "pycharm": {
     "name": "#%%\n"
    }
   }
  },
  {
   "cell_type": "code",
   "execution_count": null,
   "outputs": [],
   "source": [],
   "metadata": {
    "collapsed": false,
    "pycharm": {
     "name": "#%%\n"
    }
   }
  }
 ],
 "metadata": {
  "kernelspec": {
   "display_name": "Python 3",
   "language": "python",
   "name": "python3"
  },
  "language_info": {
   "codemirror_mode": {
    "name": "ipython",
    "version": 2
   },
   "file_extension": ".py",
   "mimetype": "text/x-python",
   "name": "python",
   "nbconvert_exporter": "python",
   "pygments_lexer": "ipython2",
   "version": "2.7.6"
  }
 },
 "nbformat": 4,
 "nbformat_minor": 0
}